{
 "cells": [
  {
   "cell_type": "code",
   "execution_count": 37,
   "metadata": {},
   "outputs": [],
   "source": [
    "import pandas as pd\n",
    "import numpy as np\n",
    "pd.set_option('display.max_columns', None)\n",
    "import warnings\n",
    "warnings.filterwarnings(\"ignore\")\n",
    "\n",
    "import os\n",
    "os.chdir('../')\n",
    "\n",
    "from sklearn.model_selection import train_test_split\n",
    "from sklearn.metrics import roc_auc_score, roc_curve, accuracy_score\n",
    "\n",
    "import matplotlib.pyplot as plt\n",
    "import matplotlib.patches as mpatches\n",
    "import seaborn as sns\n",
    "from scipy.stats import norm\n",
    "\n",
    "import xgboost as xgb\n",
    "from lightgbm import LGBMClassifier\n"
   ]
  },
  {
   "cell_type": "code",
   "execution_count": 2,
   "metadata": {},
   "outputs": [
    {
     "data": {
      "text/plain": [
       "'/Users/b05348/Documents/proyectos/diplomatura/diplomatura'"
      ]
     },
     "execution_count": 2,
     "metadata": {},
     "output_type": "execute_result"
    }
   ],
   "source": [
    "os.getcwd()"
   ]
  },
  {
   "cell_type": "code",
   "execution_count": 3,
   "metadata": {},
   "outputs": [],
   "source": [
    "train = pd.read_csv(\"./data/titanic/02 - preprocesada/train.csv\")"
   ]
  },
  {
   "cell_type": "code",
   "execution_count": 4,
   "metadata": {},
   "outputs": [
    {
     "data": {
      "text/html": [
       "<div>\n",
       "<style scoped>\n",
       "    .dataframe tbody tr th:only-of-type {\n",
       "        vertical-align: middle;\n",
       "    }\n",
       "\n",
       "    .dataframe tbody tr th {\n",
       "        vertical-align: top;\n",
       "    }\n",
       "\n",
       "    .dataframe thead th {\n",
       "        text-align: right;\n",
       "    }\n",
       "</style>\n",
       "<table border=\"1\" class=\"dataframe\">\n",
       "  <thead>\n",
       "    <tr style=\"text-align: right;\">\n",
       "      <th></th>\n",
       "      <th>PassengerId</th>\n",
       "      <th>Survived</th>\n",
       "      <th>Age</th>\n",
       "      <th>SibSp</th>\n",
       "      <th>Parch</th>\n",
       "      <th>Fare</th>\n",
       "      <th>Pclass_1</th>\n",
       "      <th>Pclass_2</th>\n",
       "      <th>Pclass_3</th>\n",
       "      <th>Sex_female</th>\n",
       "      <th>Sex_male</th>\n",
       "      <th>titulo_Master</th>\n",
       "      <th>titulo_Miss</th>\n",
       "      <th>titulo_Mr</th>\n",
       "      <th>titulo_Mrs</th>\n",
       "      <th>titulo_Officer</th>\n",
       "      <th>titulo_Royalty</th>\n",
       "      <th>decilesEdad_0</th>\n",
       "      <th>decilesEdad_1</th>\n",
       "      <th>decilesEdad_2</th>\n",
       "      <th>decilesEdad_3</th>\n",
       "      <th>decilesEdad_4</th>\n",
       "      <th>decilesEdad_5</th>\n",
       "      <th>decilesEdad_6</th>\n",
       "      <th>decilesEdad_7</th>\n",
       "      <th>decilesEdad_8</th>\n",
       "      <th>decilesEdad_9</th>\n",
       "      <th>labelEncoderEmbarked</th>\n",
       "    </tr>\n",
       "  </thead>\n",
       "  <tbody>\n",
       "    <tr>\n",
       "      <th>0</th>\n",
       "      <td>1</td>\n",
       "      <td>0.0</td>\n",
       "      <td>22.0</td>\n",
       "      <td>1</td>\n",
       "      <td>0</td>\n",
       "      <td>7.2500</td>\n",
       "      <td>0</td>\n",
       "      <td>0</td>\n",
       "      <td>1</td>\n",
       "      <td>0</td>\n",
       "      <td>1</td>\n",
       "      <td>0</td>\n",
       "      <td>0</td>\n",
       "      <td>1</td>\n",
       "      <td>0</td>\n",
       "      <td>0</td>\n",
       "      <td>0</td>\n",
       "      <td>0</td>\n",
       "      <td>0</td>\n",
       "      <td>1</td>\n",
       "      <td>0</td>\n",
       "      <td>0</td>\n",
       "      <td>0</td>\n",
       "      <td>0</td>\n",
       "      <td>0</td>\n",
       "      <td>0</td>\n",
       "      <td>0</td>\n",
       "      <td>2</td>\n",
       "    </tr>\n",
       "    <tr>\n",
       "      <th>1</th>\n",
       "      <td>2</td>\n",
       "      <td>1.0</td>\n",
       "      <td>38.0</td>\n",
       "      <td>1</td>\n",
       "      <td>0</td>\n",
       "      <td>71.2833</td>\n",
       "      <td>1</td>\n",
       "      <td>0</td>\n",
       "      <td>0</td>\n",
       "      <td>1</td>\n",
       "      <td>0</td>\n",
       "      <td>0</td>\n",
       "      <td>0</td>\n",
       "      <td>0</td>\n",
       "      <td>1</td>\n",
       "      <td>0</td>\n",
       "      <td>0</td>\n",
       "      <td>0</td>\n",
       "      <td>0</td>\n",
       "      <td>0</td>\n",
       "      <td>0</td>\n",
       "      <td>0</td>\n",
       "      <td>0</td>\n",
       "      <td>0</td>\n",
       "      <td>1</td>\n",
       "      <td>0</td>\n",
       "      <td>0</td>\n",
       "      <td>0</td>\n",
       "    </tr>\n",
       "    <tr>\n",
       "      <th>2</th>\n",
       "      <td>3</td>\n",
       "      <td>1.0</td>\n",
       "      <td>26.0</td>\n",
       "      <td>0</td>\n",
       "      <td>0</td>\n",
       "      <td>7.9250</td>\n",
       "      <td>0</td>\n",
       "      <td>0</td>\n",
       "      <td>1</td>\n",
       "      <td>1</td>\n",
       "      <td>0</td>\n",
       "      <td>0</td>\n",
       "      <td>1</td>\n",
       "      <td>0</td>\n",
       "      <td>0</td>\n",
       "      <td>0</td>\n",
       "      <td>0</td>\n",
       "      <td>0</td>\n",
       "      <td>0</td>\n",
       "      <td>0</td>\n",
       "      <td>0</td>\n",
       "      <td>1</td>\n",
       "      <td>0</td>\n",
       "      <td>0</td>\n",
       "      <td>0</td>\n",
       "      <td>0</td>\n",
       "      <td>0</td>\n",
       "      <td>2</td>\n",
       "    </tr>\n",
       "    <tr>\n",
       "      <th>3</th>\n",
       "      <td>4</td>\n",
       "      <td>1.0</td>\n",
       "      <td>35.0</td>\n",
       "      <td>1</td>\n",
       "      <td>0</td>\n",
       "      <td>53.1000</td>\n",
       "      <td>1</td>\n",
       "      <td>0</td>\n",
       "      <td>0</td>\n",
       "      <td>1</td>\n",
       "      <td>0</td>\n",
       "      <td>0</td>\n",
       "      <td>0</td>\n",
       "      <td>0</td>\n",
       "      <td>1</td>\n",
       "      <td>0</td>\n",
       "      <td>0</td>\n",
       "      <td>0</td>\n",
       "      <td>0</td>\n",
       "      <td>0</td>\n",
       "      <td>0</td>\n",
       "      <td>0</td>\n",
       "      <td>0</td>\n",
       "      <td>0</td>\n",
       "      <td>1</td>\n",
       "      <td>0</td>\n",
       "      <td>0</td>\n",
       "      <td>2</td>\n",
       "    </tr>\n",
       "    <tr>\n",
       "      <th>4</th>\n",
       "      <td>5</td>\n",
       "      <td>0.0</td>\n",
       "      <td>35.0</td>\n",
       "      <td>0</td>\n",
       "      <td>0</td>\n",
       "      <td>8.0500</td>\n",
       "      <td>0</td>\n",
       "      <td>0</td>\n",
       "      <td>1</td>\n",
       "      <td>0</td>\n",
       "      <td>1</td>\n",
       "      <td>0</td>\n",
       "      <td>0</td>\n",
       "      <td>1</td>\n",
       "      <td>0</td>\n",
       "      <td>0</td>\n",
       "      <td>0</td>\n",
       "      <td>0</td>\n",
       "      <td>0</td>\n",
       "      <td>0</td>\n",
       "      <td>0</td>\n",
       "      <td>0</td>\n",
       "      <td>0</td>\n",
       "      <td>0</td>\n",
       "      <td>1</td>\n",
       "      <td>0</td>\n",
       "      <td>0</td>\n",
       "      <td>2</td>\n",
       "    </tr>\n",
       "  </tbody>\n",
       "</table>\n",
       "</div>"
      ],
      "text/plain": [
       "   PassengerId  Survived   Age  SibSp  Parch     Fare  Pclass_1  Pclass_2  \\\n",
       "0            1       0.0  22.0      1      0   7.2500         0         0   \n",
       "1            2       1.0  38.0      1      0  71.2833         1         0   \n",
       "2            3       1.0  26.0      0      0   7.9250         0         0   \n",
       "3            4       1.0  35.0      1      0  53.1000         1         0   \n",
       "4            5       0.0  35.0      0      0   8.0500         0         0   \n",
       "\n",
       "   Pclass_3  Sex_female  Sex_male  titulo_Master  titulo_Miss  titulo_Mr  \\\n",
       "0         1           0         1              0            0          1   \n",
       "1         0           1         0              0            0          0   \n",
       "2         1           1         0              0            1          0   \n",
       "3         0           1         0              0            0          0   \n",
       "4         1           0         1              0            0          1   \n",
       "\n",
       "   titulo_Mrs  titulo_Officer  titulo_Royalty  decilesEdad_0  decilesEdad_1  \\\n",
       "0           0               0               0              0              0   \n",
       "1           1               0               0              0              0   \n",
       "2           0               0               0              0              0   \n",
       "3           1               0               0              0              0   \n",
       "4           0               0               0              0              0   \n",
       "\n",
       "   decilesEdad_2  decilesEdad_3  decilesEdad_4  decilesEdad_5  decilesEdad_6  \\\n",
       "0              1              0              0              0              0   \n",
       "1              0              0              0              0              0   \n",
       "2              0              0              1              0              0   \n",
       "3              0              0              0              0              0   \n",
       "4              0              0              0              0              0   \n",
       "\n",
       "   decilesEdad_7  decilesEdad_8  decilesEdad_9  labelEncoderEmbarked  \n",
       "0              0              0              0                     2  \n",
       "1              1              0              0                     0  \n",
       "2              0              0              0                     2  \n",
       "3              1              0              0                     2  \n",
       "4              1              0              0                     2  "
      ]
     },
     "execution_count": 4,
     "metadata": {},
     "output_type": "execute_result"
    }
   ],
   "source": [
    "train.head()"
   ]
  },
  {
   "cell_type": "code",
   "execution_count": 5,
   "metadata": {},
   "outputs": [],
   "source": [
    "X = train.drop(columns = [\"Survived\", \"PassengerId\"])\n",
    "y = train.Survived\n",
    "X_train, X_test, y_train, y_test = train_test_split(X, y, test_size=0.33, random_state=42)"
   ]
  },
  {
   "cell_type": "code",
   "execution_count": 6,
   "metadata": {},
   "outputs": [
    {
     "name": "stdout",
     "output_type": "stream",
     "text": [
      "(596, 26)\n",
      "(295, 26)\n"
     ]
    }
   ],
   "source": [
    "print(X_train.shape)\n",
    "print(X_test.shape)"
   ]
  },
  {
   "cell_type": "markdown",
   "metadata": {},
   "source": [
    "## Boosting\n",
    "El boosting es un ensamble de *learners* débiles (generalmente árboles de decisión) que trabajan en conjunto para poder lograr resultados mucho más robustos en su conjunto. \n",
    "La forma en que se generan es secuencial, es decir, se genera un árbol de, el mismo es evaluado, luego se generan *pesos* en cada una de las observaciones, las observaciones que fueron érroneas en sus predicciones, se les dará mayor peso, las que fueron acertadas, menor. Esto se hace para que el árbo siguiente haga más hincapié en aquellas observaciones que fueron mal predichas.\n",
    "\n",
    "Existen varias implementaciones de este algoritmo:\n",
    "\n",
    "* XGBoost (Extreme Gradient Boosting): Es uno de los algoritmos que estuvo dominando las competencias de data mining a nivel global. Creado por Tianqui Chen y Carlos Guestrin, logra muy buenos resultados y excelentes generalizaciones. En el siguiente [link](https://xgboost.readthedocs.io/en/latest/) podrán encontrar toda su documentación.\n",
    "* LightGBM: "
   ]
  },
  {
   "cell_type": "markdown",
   "metadata": {},
   "source": [
    "Los parámetros para ajustar del **XGBoost** son:\n",
    "\n",
    "* base_score: Este parámetro es el score que se le asigna inicialmente a todas las predicciones.\n",
    "* Booster: Este parámetro nos indica que se desea usar como *learner* base. Las tres opciones de este algoritmo son: gbtree, dart (ambos se basan en árboles) y gblinear (funciones lineales)\n",
    "* colsample_bylevel: Se realiza un muestreo de las columnas a elegir encada uno de los niveles del árbol. Es decir, cada vez que crece un nivel el árbol, se elije una característica de una submuestra.\n",
    "* colsample_bynode: Por cada nodo del árbol se realiza una muestra de las posibles variables para elegir y realizar un nuevo corte.\n",
    "* colsample_bytree: Por cada árbol nuevo, se realiza una selección de variables.\n",
    "* gamma: Es igual al min_split_loss. Es la mínima reducción de pérdidas que se requiere para poder realizar un nuevo split en un nodo hoja. Cuanto más alto sea el valor de gamma, más conservador será el árbol. \n",
    "* importance_type: Es el tipo de feature importance. Los valores son gain, weight o total_gain.\n",
    "* learning_rate: Es la tasa de aprendizaje. Si el valor es muy chico, los pasos para buscar los mínimos de las funciones serán más cortos, si el valor es muy grande, los pasos serán más largos.\n",
    "* max_delta_step: Es el máximo delta que se puede tener cuando se estimen los pesos de los árboles.\n",
    "* max_depth: Profundidad máxima de los árboles bases.\n",
    "* missing: El valor con el que se completarán los valores faltantes.\n",
    "* n_estimators: Cantidad de *learners* base que tendrá el modelo final.\n",
    "* n_jobs: Número de jobs (threads) que correrán en paralelo.\n",
    "* random_state: Valor de la semilla para que puedan ser reproducidos los resultados.\n",
    "* reg_alpha: Regularización L1.\n",
    "* reg_lambda: Regularización L2.\n",
    "* scale_pos_weight: Balanceo entre los pesos de las clases positivas o negativas.\n",
    "* subsample: Es un ratio de muestreo para las instancias de entrenamiento.\n",
    "* verbosity: Valor por default=1. Este parámetro nos indicará que mensajes se mostrarán por pantalla. El valor 0 indica falta de mensajes, 1 solo advertencias, 2 información, 3 información de debug. "
   ]
  },
  {
   "cell_type": "code",
   "execution_count": 10,
   "metadata": {},
   "outputs": [
    {
     "data": {
      "text/plain": [
       "XGBClassifier(base_score=0.5, booster='gbtree', colsample_bylevel=1,\n",
       "              colsample_bynode=1, colsample_bytree=1, gamma=0, gpu_id=-1,\n",
       "              importance_type='gain', interaction_constraints='',\n",
       "              learning_rate=0.300000012, max_delta_step=0, max_depth=6,\n",
       "              min_child_weight=1, missing=nan, monotone_constraints='()',\n",
       "              n_estimators=100, n_jobs=0, num_parallel_tree=1, random_state=0,\n",
       "              reg_alpha=0, reg_lambda=1, scale_pos_weight=1, subsample=1,\n",
       "              tree_method='exact', validate_parameters=1, verbosity=None)"
      ]
     },
     "execution_count": 10,
     "metadata": {},
     "output_type": "execute_result"
    }
   ],
   "source": [
    "learner = xgb.XGBClassifier()\n",
    "learner.fit(X_train, y_train)"
   ]
  },
  {
   "cell_type": "code",
   "execution_count": 14,
   "metadata": {},
   "outputs": [],
   "source": [
    "predictionsProbabilities = learner.predict_proba(X_test)\n",
    "predictions = learner.predict(X_test)"
   ]
  },
  {
   "cell_type": "code",
   "execution_count": 19,
   "metadata": {},
   "outputs": [
    {
     "data": {
      "text/plain": [
       "0.7830508474576271"
      ]
     },
     "execution_count": 19,
     "metadata": {},
     "output_type": "execute_result"
    }
   ],
   "source": [
    "accuracy_score(y_test, predictions)"
   ]
  },
  {
   "cell_type": "code",
   "execution_count": 20,
   "metadata": {},
   "outputs": [
    {
     "data": {
      "image/png": "[encoded data removed]",
      "text/plain": [
       "<Figure size 720x720 with 1 Axes>"
      ]
     },
     "metadata": {
      "needs_background": "light"
     },
     "output_type": "display_data"
    }
   ],
   "source": [
    "areaBajoCurvaRoc = roc_auc_score(y_test, predictions)\n",
    "fpr, tpr, _ = roc_curve(y_test, predictions)\n",
    "plt.figure(figsize=(10,10))\n",
    "plt.title(\"Grafico ROC para el modelo\")\n",
    "plt.plot(fpr, tpr)\n",
    "plt.plot([0,1])\n",
    "plt.xlabel('FPR')\n",
    "plt.ylabel('TPR')\n",
    "plt.annotate('Area bajo la curva ROC del modelo: {}'.format(areaBajoCurvaRoc), (-0.02,0.99))\n",
    "plt.show()"
   ]
  },
  {
   "cell_type": "code",
   "execution_count": 26,
   "metadata": {},
   "outputs": [
    {
     "data": {
      "text/plain": [
       "([<matplotlib.axis.XTick at 0x7f91cd826f50>,\n",
       "  <matplotlib.axis.XTick at 0x7f91c8f97750>,\n",
       "  <matplotlib.axis.XTick at 0x7f91c8f5ba10>,\n",
       "  <matplotlib.axis.XTick at 0x7f91cdde2bd0>,\n",
       "  <matplotlib.axis.XTick at 0x7f91cdde20d0>,\n",
       "  <matplotlib.axis.XTick at 0x7f91cdde2a50>,\n",
       "  <matplotlib.axis.XTick at 0x7f91ce02c210>,\n",
       "  <matplotlib.axis.XTick at 0x7f91cdde2450>,\n",
       "  <matplotlib.axis.XTick at 0x7f91cddf2e10>,\n",
       "  <matplotlib.axis.XTick at 0x7f91cddf23d0>,\n",
       "  <matplotlib.axis.XTick at 0x7f91cdde9390>,\n",
       "  <matplotlib.axis.XTick at 0x7f91cdde99d0>,\n",
       "  <matplotlib.axis.XTick at 0x7f91cdde9b10>,\n",
       "  <matplotlib.axis.XTick at 0x7f91cdd94d90>,\n",
       "  <matplotlib.axis.XTick at 0x7f91cdd94a10>,\n",
       "  <matplotlib.axis.XTick at 0x7f91cdd94150>,\n",
       "  <matplotlib.axis.XTick at 0x7f91cdde2090>,\n",
       "  <matplotlib.axis.XTick at 0x7f91cdd94190>,\n",
       "  <matplotlib.axis.XTick at 0x7f91cdd9f790>,\n",
       "  <matplotlib.axis.XTick at 0x7f91cdd9f850>],\n",
       " [Text(0, 0, 'Sex_female'),\n",
       "  Text(1, 0, 'Pclass_3'),\n",
       "  Text(2, 0, 'titulo_Mr'),\n",
       "  Text(3, 0, 'titulo_Officer'),\n",
       "  Text(4, 0, 'decilesEdad_1'),\n",
       "  Text(5, 0, 'decilesEdad_7'),\n",
       "  Text(6, 0, 'titulo_Miss'),\n",
       "  Text(7, 0, 'SibSp'),\n",
       "  Text(8, 0, 'labelEncoderEmbarked'),\n",
       "  Text(9, 0, 'Pclass_1'),\n",
       "  Text(10, 0, 'titulo_Master'),\n",
       "  Text(11, 0, 'Fare'),\n",
       "  Text(12, 0, 'decilesEdad_6'),\n",
       "  Text(13, 0, 'Age'),\n",
       "  Text(14, 0, 'Parch'),\n",
       "  Text(15, 0, 'decilesEdad_3'),\n",
       "  Text(16, 0, 'decilesEdad_5'),\n",
       "  Text(17, 0, 'Pclass_2'),\n",
       "  Text(18, 0, 'decilesEdad_8'),\n",
       "  Text(19, 0, 'decilesEdad_2')])"
      ]
     },
     "execution_count": 26,
     "metadata": {},
     "output_type": "execute_result"
    },
    {
     "data": {
      "image/png": "[encoded data removed]",
      "text/plain": [
       "<Figure size 432x288 with 1 Axes>"
      ]
     },
     "metadata": {
      "needs_background": "light"
     },
     "output_type": "display_data"
    }
   ],
   "source": [
    "importances = learner.feature_importances_\n",
    "importances = importances / importances.sum()\n",
    "indices = np.argsort(importances)[::-1][0:20]\n",
    "names = [X_train.columns[i] for i in indices]\n",
    "plt.figure()\n",
    "plt.title(\"Feature Importance model 1\")\n",
    "plt.bar(range(len(names)), importances[indices])\n",
    "plt.xticks(range(len(names)), names, rotation=90)\n"
   ]
  },
  {
   "cell_type": "markdown",
   "metadata": {},
   "source": [
    "LightGBM es una implementación de Boosting creada por Microsoft. Para ciertos problemas puede ser mucho más performante que la implementación de XGBoost.\n",
    "Los parámetros son:\n",
    "* boosting_type: Tipo de boosting, el que utiliza por default es gbdt, que es el clásico gradient boosting decision tree.\n",
    "* num_leaves: es el máximo número de hojas que pueden tener los árboles base.\n",
    "* max_depth: Máxima profundidad que pueden tener los árboles base.\n",
    "* learning_rate: Es la tasa de aprendizaje. Si el valor es muy chico, los pasos para buscar los mínimos de las funciones serán más cortos, si el valor es muy grande, los pasos serán más largos.\n",
    "* n_estimators: Cantidad de *learners* base que tendrá el modelo final.\n",
    "* class_weight: Este parámetro es un diccionario, en done cada key será la clase, y el valor será la proporción que posee de target.\n",
    "* min_split_gain: Es la mímina reducción del error que se necesita para que un nodo hoja se divida.\n",
    "* min_child_samples: Mínima cantidad de observaciones que tiene que tener una hoja.\n",
    "* subsample: Este parámetro sirve para que cada árbol se entrene con una submuestra de la base de entrenamiento.\n",
    "* colsample_bytree: Por cada árbol nuevo, se realiza una selección de variables.\n",
    "* reg_alpha: Regularización L1.\n",
    "* reg_lambda: Regularización L2.\n",
    "* n_jobs: Número de jobs (threads) que correrán en paralelo.\n",
    "* random_state: Valor de la semilla para que puedan ser reproducidos los resultados.\n",
    "* silent: Se utiliza para mostrar o no mensajes mientras se entrena.\n",
    "* importance_type: Es el tipo de feature importance. Los valores son gain, weight o total_gain.\n"
   ]
  },
  {
   "cell_type": "code",
   "execution_count": 39,
   "metadata": {},
   "outputs": [],
   "source": [
    "lgbm = LGBMClassifier()"
   ]
  },
  {
   "cell_type": "code",
   "execution_count": 58,
   "metadata": {},
   "outputs": [
    {
     "data": {
      "text/plain": [
       "LGBMClassifier()"
      ]
     },
     "execution_count": 58,
     "metadata": {},
     "output_type": "execute_result"
    }
   ],
   "source": [
    "lgbm.fit(X_train, y_train)"
   ]
  },
  {
   "cell_type": "code",
   "execution_count": 60,
   "metadata": {},
   "outputs": [
    {
     "data": {
      "text/plain": [
       "{'boosting_type': 'gbdt',\n",
       " 'class_weight': None,\n",
       " 'colsample_bytree': 1.0,\n",
       " 'importance_type': 'split',\n",
       " 'learning_rate': 0.1,\n",
       " 'max_depth': -1,\n",
       " 'min_child_samples': 20,\n",
       " 'min_child_weight': 0.001,\n",
       " 'min_split_gain': 0.0,\n",
       " 'n_estimators': 100,\n",
       " 'n_jobs': -1,\n",
       " 'num_leaves': 31,\n",
       " 'objective': None,\n",
       " 'random_state': None,\n",
       " 'reg_alpha': 0.0,\n",
       " 'reg_lambda': 0.0,\n",
       " 'silent': True,\n",
       " 'subsample': 1.0,\n",
       " 'subsample_for_bin': 200000,\n",
       " 'subsample_freq': 0}"
      ]
     },
     "execution_count": 60,
     "metadata": {},
     "output_type": "execute_result"
    }
   ],
   "source": [
    "lgbm.get_params()"
   ]
  },
  {
   "cell_type": "code",
   "execution_count": 57,
   "metadata": {},
   "outputs": [
    {
     "data": {
      "text/plain": [
       "([<matplotlib.axis.XTick at 0x7f91ce45fa90>,\n",
       "  <matplotlib.axis.XTick at 0x7f91ce451d50>,\n",
       "  <matplotlib.axis.XTick at 0x7f91ce45ab10>,\n",
       "  <matplotlib.axis.XTick at 0x7f91cdec06d0>,\n",
       "  <matplotlib.axis.XTick at 0x7f91cdec0c10>,\n",
       "  <matplotlib.axis.XTick at 0x7f91cdec81d0>,\n",
       "  <matplotlib.axis.XTick at 0x7f91cdec8710>,\n",
       "  <matplotlib.axis.XTick at 0x7f91cdec8c50>,\n",
       "  <matplotlib.axis.XTick at 0x7f91cdecf1d0>,\n",
       "  <matplotlib.axis.XTick at 0x7f91cdec09d0>,\n",
       "  <matplotlib.axis.XTick at 0x7f91cdecf2d0>,\n",
       "  <matplotlib.axis.XTick at 0x7f91cdecf850>,\n",
       "  <matplotlib.axis.XTick at 0x7f91cdecfd90>,\n",
       "  <matplotlib.axis.XTick at 0x7f91cded6310>,\n",
       "  <matplotlib.axis.XTick at 0x7f91cded6850>,\n",
       "  <matplotlib.axis.XTick at 0x7f91cded6d90>,\n",
       "  <matplotlib.axis.XTick at 0x7f91cdee1310>,\n",
       "  <matplotlib.axis.XTick at 0x7f91cdee1850>,\n",
       "  <matplotlib.axis.XTick at 0x7f91cdecf610>,\n",
       "  <matplotlib.axis.XTick at 0x7f91cdee16d0>],\n",
       " [Text(0, 0, 'Fare'),\n",
       "  Text(1, 0, 'Age'),\n",
       "  Text(2, 0, 'labelEncoderEmbarked'),\n",
       "  Text(3, 0, 'SibSp'),\n",
       "  Text(4, 0, 'Pclass_3'),\n",
       "  Text(5, 0, 'Parch'),\n",
       "  Text(6, 0, 'decilesEdad_3'),\n",
       "  Text(7, 0, 'Sex_female'),\n",
       "  Text(8, 0, 'titulo_Mr'),\n",
       "  Text(9, 0, 'titulo_Mrs'),\n",
       "  Text(10, 0, 'decilesEdad_5'),\n",
       "  Text(11, 0, 'Pclass_2'),\n",
       "  Text(12, 0, 'titulo_Miss'),\n",
       "  Text(13, 0, 'Pclass_1'),\n",
       "  Text(14, 0, 'Sex_male'),\n",
       "  Text(15, 0, 'decilesEdad_1'),\n",
       "  Text(16, 0, 'titulo_Master'),\n",
       "  Text(17, 0, 'decilesEdad_8'),\n",
       "  Text(18, 0, 'decilesEdad_6'),\n",
       "  Text(19, 0, 'decilesEdad_7')])"
      ]
     },
     "execution_count": 57,
     "metadata": {},
     "output_type": "execute_result"
    },
    {
     "data": {
      "image/png": "[encoded data removed]",
      "text/plain": [
       "<Figure size 432x288 with 1 Axes>"
      ]
     },
     "metadata": {
      "needs_background": "light"
     },
     "output_type": "display_data"
    }
   ],
   "source": [
    "importances = lgbm.feature_importances_\n",
    "importances = importances / importances.sum()\n",
    "indices = np.argsort(importances)[::-1][0:20]\n",
    "names = [X_train.columns[i] for i in indices]\n",
    "plt.figure()\n",
    "plt.title(\"Feature Importance model 1\")\n",
    "plt.bar(range(len(names)), importances[indices])\n",
    "plt.xticks(range(len(names)), names, rotation=90)"
   ]
  }
 ],
 "metadata": {
  "kernelspec": {
   "display_name": "Python 3",
   "language": "python",
   "name": "python3"
  },
  "language_info": {
   "codemirror_mode": {
    "name": "ipython",
    "version": 3
   },
   "file_extension": ".py",
   "mimetype": "text/x-python",
   "name": "python",
   "nbconvert_exporter": "python",
   "pygments_lexer": "ipython3",
   "version": "3.7.6"
  }
 },
 "nbformat": 4,
 "nbformat_minor": 4
}
