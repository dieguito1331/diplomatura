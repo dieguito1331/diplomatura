{
 "cells": [
  {
   "cell_type": "code",
   "execution_count": 36,
   "metadata": {},
   "outputs": [],
   "source": [
    "import pandas as pd\n",
    "import numpy as np\n",
    "pd.set_option('display.max_columns', None)\n",
    "import warnings\n",
    "warnings.filterwarnings(\"ignore\")\n",
    "\n",
    "import os\n",
    "os.chdir('../')\n",
    "\n",
    "from sklearn.model_selection import train_test_split\n",
    "from sklearn.ensemble import RandomForestClassifier\n",
    "from sklearn.metrics import roc_auc_score, roc_curve, accuracy_score\n",
    "\n",
    "import matplotlib.pyplot as plt\n",
    "import matplotlib.patches as mpatches\n",
    "import seaborn as sns\n",
    "from scipy.stats import norm"
   ]
  },
  {
   "cell_type": "code",
   "execution_count": 8,
   "metadata": {},
   "outputs": [
    {
     "data": {
      "text/plain": [
       "'/Users/b05348/Documents/proyectos/diplomatura/diplomatura'"
      ]
     },
     "execution_count": 8,
     "metadata": {},
     "output_type": "execute_result"
    }
   ],
   "source": [
    "os.getcwd()"
   ]
  },
  {
   "cell_type": "code",
   "execution_count": 9,
   "metadata": {},
   "outputs": [],
   "source": [
    "train = pd.read_csv(\"./data/titanic/02 - preprocesada/train.csv\")"
   ]
  },
  {
   "cell_type": "code",
   "execution_count": 10,
   "metadata": {},
   "outputs": [
    {
     "data": {
      "text/html": [
       "<div>\n",
       "<style scoped>\n",
       "    .dataframe tbody tr th:only-of-type {\n",
       "        vertical-align: middle;\n",
       "    }\n",
       "\n",
       "    .dataframe tbody tr th {\n",
       "        vertical-align: top;\n",
       "    }\n",
       "\n",
       "    .dataframe thead th {\n",
       "        text-align: right;\n",
       "    }\n",
       "</style>\n",
       "<table border=\"1\" class=\"dataframe\">\n",
       "  <thead>\n",
       "    <tr style=\"text-align: right;\">\n",
       "      <th></th>\n",
       "      <th>PassengerId</th>\n",
       "      <th>Survived</th>\n",
       "      <th>Age</th>\n",
       "      <th>SibSp</th>\n",
       "      <th>Parch</th>\n",
       "      <th>Fare</th>\n",
       "      <th>Pclass_1</th>\n",
       "      <th>Pclass_2</th>\n",
       "      <th>Pclass_3</th>\n",
       "      <th>Sex_female</th>\n",
       "      <th>Sex_male</th>\n",
       "      <th>titulo_Master</th>\n",
       "      <th>titulo_Miss</th>\n",
       "      <th>titulo_Mr</th>\n",
       "      <th>titulo_Mrs</th>\n",
       "      <th>titulo_Officer</th>\n",
       "      <th>titulo_Royalty</th>\n",
       "      <th>decilesEdad_0</th>\n",
       "      <th>decilesEdad_1</th>\n",
       "      <th>decilesEdad_2</th>\n",
       "      <th>decilesEdad_3</th>\n",
       "      <th>decilesEdad_4</th>\n",
       "      <th>decilesEdad_5</th>\n",
       "      <th>decilesEdad_6</th>\n",
       "      <th>decilesEdad_7</th>\n",
       "      <th>decilesEdad_8</th>\n",
       "      <th>decilesEdad_9</th>\n",
       "      <th>labelEncoderEmbarked</th>\n",
       "    </tr>\n",
       "  </thead>\n",
       "  <tbody>\n",
       "    <tr>\n",
       "      <th>0</th>\n",
       "      <td>1</td>\n",
       "      <td>0.0</td>\n",
       "      <td>22.0</td>\n",
       "      <td>1</td>\n",
       "      <td>0</td>\n",
       "      <td>7.2500</td>\n",
       "      <td>0</td>\n",
       "      <td>0</td>\n",
       "      <td>1</td>\n",
       "      <td>0</td>\n",
       "      <td>1</td>\n",
       "      <td>0</td>\n",
       "      <td>0</td>\n",
       "      <td>1</td>\n",
       "      <td>0</td>\n",
       "      <td>0</td>\n",
       "      <td>0</td>\n",
       "      <td>0</td>\n",
       "      <td>0</td>\n",
       "      <td>1</td>\n",
       "      <td>0</td>\n",
       "      <td>0</td>\n",
       "      <td>0</td>\n",
       "      <td>0</td>\n",
       "      <td>0</td>\n",
       "      <td>0</td>\n",
       "      <td>0</td>\n",
       "      <td>2</td>\n",
       "    </tr>\n",
       "    <tr>\n",
       "      <th>1</th>\n",
       "      <td>2</td>\n",
       "      <td>1.0</td>\n",
       "      <td>38.0</td>\n",
       "      <td>1</td>\n",
       "      <td>0</td>\n",
       "      <td>71.2833</td>\n",
       "      <td>1</td>\n",
       "      <td>0</td>\n",
       "      <td>0</td>\n",
       "      <td>1</td>\n",
       "      <td>0</td>\n",
       "      <td>0</td>\n",
       "      <td>0</td>\n",
       "      <td>0</td>\n",
       "      <td>1</td>\n",
       "      <td>0</td>\n",
       "      <td>0</td>\n",
       "      <td>0</td>\n",
       "      <td>0</td>\n",
       "      <td>0</td>\n",
       "      <td>0</td>\n",
       "      <td>0</td>\n",
       "      <td>0</td>\n",
       "      <td>0</td>\n",
       "      <td>1</td>\n",
       "      <td>0</td>\n",
       "      <td>0</td>\n",
       "      <td>0</td>\n",
       "    </tr>\n",
       "    <tr>\n",
       "      <th>2</th>\n",
       "      <td>3</td>\n",
       "      <td>1.0</td>\n",
       "      <td>26.0</td>\n",
       "      <td>0</td>\n",
       "      <td>0</td>\n",
       "      <td>7.9250</td>\n",
       "      <td>0</td>\n",
       "      <td>0</td>\n",
       "      <td>1</td>\n",
       "      <td>1</td>\n",
       "      <td>0</td>\n",
       "      <td>0</td>\n",
       "      <td>1</td>\n",
       "      <td>0</td>\n",
       "      <td>0</td>\n",
       "      <td>0</td>\n",
       "      <td>0</td>\n",
       "      <td>0</td>\n",
       "      <td>0</td>\n",
       "      <td>0</td>\n",
       "      <td>0</td>\n",
       "      <td>1</td>\n",
       "      <td>0</td>\n",
       "      <td>0</td>\n",
       "      <td>0</td>\n",
       "      <td>0</td>\n",
       "      <td>0</td>\n",
       "      <td>2</td>\n",
       "    </tr>\n",
       "    <tr>\n",
       "      <th>3</th>\n",
       "      <td>4</td>\n",
       "      <td>1.0</td>\n",
       "      <td>35.0</td>\n",
       "      <td>1</td>\n",
       "      <td>0</td>\n",
       "      <td>53.1000</td>\n",
       "      <td>1</td>\n",
       "      <td>0</td>\n",
       "      <td>0</td>\n",
       "      <td>1</td>\n",
       "      <td>0</td>\n",
       "      <td>0</td>\n",
       "      <td>0</td>\n",
       "      <td>0</td>\n",
       "      <td>1</td>\n",
       "      <td>0</td>\n",
       "      <td>0</td>\n",
       "      <td>0</td>\n",
       "      <td>0</td>\n",
       "      <td>0</td>\n",
       "      <td>0</td>\n",
       "      <td>0</td>\n",
       "      <td>0</td>\n",
       "      <td>0</td>\n",
       "      <td>1</td>\n",
       "      <td>0</td>\n",
       "      <td>0</td>\n",
       "      <td>2</td>\n",
       "    </tr>\n",
       "    <tr>\n",
       "      <th>4</th>\n",
       "      <td>5</td>\n",
       "      <td>0.0</td>\n",
       "      <td>35.0</td>\n",
       "      <td>0</td>\n",
       "      <td>0</td>\n",
       "      <td>8.0500</td>\n",
       "      <td>0</td>\n",
       "      <td>0</td>\n",
       "      <td>1</td>\n",
       "      <td>0</td>\n",
       "      <td>1</td>\n",
       "      <td>0</td>\n",
       "      <td>0</td>\n",
       "      <td>1</td>\n",
       "      <td>0</td>\n",
       "      <td>0</td>\n",
       "      <td>0</td>\n",
       "      <td>0</td>\n",
       "      <td>0</td>\n",
       "      <td>0</td>\n",
       "      <td>0</td>\n",
       "      <td>0</td>\n",
       "      <td>0</td>\n",
       "      <td>0</td>\n",
       "      <td>1</td>\n",
       "      <td>0</td>\n",
       "      <td>0</td>\n",
       "      <td>2</td>\n",
       "    </tr>\n",
       "  </tbody>\n",
       "</table>\n",
       "</div>"
      ],
      "text/plain": [
       "   PassengerId  Survived   Age  SibSp  Parch     Fare  Pclass_1  Pclass_2  \\\n",
       "0            1       0.0  22.0      1      0   7.2500         0         0   \n",
       "1            2       1.0  38.0      1      0  71.2833         1         0   \n",
       "2            3       1.0  26.0      0      0   7.9250         0         0   \n",
       "3            4       1.0  35.0      1      0  53.1000         1         0   \n",
       "4            5       0.0  35.0      0      0   8.0500         0         0   \n",
       "\n",
       "   Pclass_3  Sex_female  Sex_male  titulo_Master  titulo_Miss  titulo_Mr  \\\n",
       "0         1           0         1              0            0          1   \n",
       "1         0           1         0              0            0          0   \n",
       "2         1           1         0              0            1          0   \n",
       "3         0           1         0              0            0          0   \n",
       "4         1           0         1              0            0          1   \n",
       "\n",
       "   titulo_Mrs  titulo_Officer  titulo_Royalty  decilesEdad_0  decilesEdad_1  \\\n",
       "0           0               0               0              0              0   \n",
       "1           1               0               0              0              0   \n",
       "2           0               0               0              0              0   \n",
       "3           1               0               0              0              0   \n",
       "4           0               0               0              0              0   \n",
       "\n",
       "   decilesEdad_2  decilesEdad_3  decilesEdad_4  decilesEdad_5  decilesEdad_6  \\\n",
       "0              1              0              0              0              0   \n",
       "1              0              0              0              0              0   \n",
       "2              0              0              1              0              0   \n",
       "3              0              0              0              0              0   \n",
       "4              0              0              0              0              0   \n",
       "\n",
       "   decilesEdad_7  decilesEdad_8  decilesEdad_9  labelEncoderEmbarked  \n",
       "0              0              0              0                     2  \n",
       "1              1              0              0                     0  \n",
       "2              0              0              0                     2  \n",
       "3              1              0              0                     2  \n",
       "4              1              0              0                     2  "
      ]
     },
     "execution_count": 10,
     "metadata": {},
     "output_type": "execute_result"
    }
   ],
   "source": [
    "train.head()"
   ]
  },
  {
   "cell_type": "code",
   "execution_count": 11,
   "metadata": {},
   "outputs": [],
   "source": [
    "X = train.drop(columns = [\"Survived\", \"PassengerId\"])\n",
    "y = train.Survived\n",
    "X_train, X_test, y_train, y_test = train_test_split(X, y, test_size=0.33, random_state=42)"
   ]
  },
  {
   "cell_type": "code",
   "execution_count": 12,
   "metadata": {},
   "outputs": [
    {
     "name": "stdout",
     "output_type": "stream",
     "text": [
      "(596, 26)\n",
      "(295, 26)\n"
     ]
    }
   ],
   "source": [
    "print(X_train.shape)\n",
    "print(X_test.shape)"
   ]
  },
  {
   "cell_type": "markdown",
   "metadata": {},
   "source": [
    "## Bagging\n",
    "Como vimos en la clase, bagging es un ensamble bastante popular para poder resolver problemas de machine learning. El mayor exponente de esta técnica se llama Random Forest. Básicamente la idea de este ensamble es generar n muestras aleatorias de la misma base de entrenamiento según la cantidad de estimadores (o árboles) que se deciden correr. Cada una de las muestras generará un árbol con diversos parámetros. Al final se realizará una votación para poder obtener el score final.\n",
    "\n",
    "Random forest a utilizar se encuentra en la librería de Scikit Learn y la documentación la podrán encontrar en el siguiente [link](https://scikit-learn.org/stable/modules/generated/sklearn.ensemble.RandomForestClassifier.html)\n"
   ]
  },
  {
   "cell_type": "markdown",
   "metadata": {},
   "source": [
    "Los parámetros que podemos ajustar en el modelo son:\n",
    "**RandomForestClassifier**\n",
    "* n_estimators (int): Valor default=100. Este parámetro ajusta la cantidad de árboles de decisión que se ejecutarán.\n",
    "* criterion ({\"gini\", \"entropy\"}): Valor default=\"gini\". Es la métrica que medirá la calidad del split. \n",
    "* max_depth (int): Valor default=None.  Este parámetro medirá la máxima profundidad que tendrá cada árbol. Si el valor es None, lo que hará es crecer el árbol hasta que las hojas queden puras o hasta que la cantidad de observaciones sea menor al parámetro min_samples_split. \n",
    "* min_samples_split (int o float): Valor default=2. Este parámetro nos indica la cantidad de observaciones mínimas que debe tener un nodo para que se realice un split. Si el valor ingresado es un entero, será considerado un valor absoluto (definido como el mínimo de observaciones para el split), si el valor ingresado es un float, el número será la división entre el valor ingresado y el total de observaciones de la base.\n",
    "* min_samples_leaf (int o float): Valor default=1. Este parámetro nos indica cuál es el número mínimo que debe tener un nodo para ser nodo hoja. El cálculo del valor es igual al parámetro anterior.\n",
    "* min_weight_fraction_leaf (float): Valor default=0. Este parámetro ayuda a determinar el tamaño mínimo del nodo final de cada uno de los árboles de decisión. El nodo final también se conoce como hoja. Esto es bastante similar a min_samples_leaf, pero en su lugar utiliza una fracción de la suma total de observaciones.\n",
    "* max_features (int, float o {\"auto\", \"sqrt\", \"log2\"}): Valor default=None. El número de variables a considerar para buscar el mejor split. Si el valor es int, se considera como el número maxímo de variables. Si el valor es float, se calculará como multiplicación de max_features y la cantidad total de variables. Si el valor es auto, se calcula como la raíz cuadrada del total de variables lo mismo que si el parámetro posee el valor sqrt. Si el parámetro posee el valor log2, entonces se calculará como el log2 del total de variables. Si el valor es None, se usarán todas las variables.\n",
    "* max_leaf_nodes (int): Valor default=None. Es la cantidad máxima de de nodos hoja que vamos a querer tener en un árbol. \n",
    "* min_impurity_decrease (float): Valor default=0. Un nodo se dividirá si el split genera un decrecimiento en la impureza menor o igual al valor definido.\n",
    "* booststrap (boolean): Valor default=True. Este parámetro se utiliza para saber si el algoritmo utiliza bootstrap para seleccionar las observaciones de cada uno de las muestras para armar cada uno de los árboles. Si el parámetro es False, se utilizará todo el dataset para construir cada uno de los árboles \n",
    "* oob_score (boolean): Valor default=False. Este parámetro se utiliza para poder decirle al algoritmo si se quiere utilizar muestras out-of-bag para estimar precición de la generalización.\n",
    "* n_jobs (int): Valor default=None. Este parmámetro nos indica la cantidad de jobs que queremos que corran en paralelo.\n",
    "* random_state (int): Valor default=None. Controla el factor aleatorio del estimador. Este parámetros es muy utilizado para poder lograr que las ejecuciones sean siempre iguales (teniendo en cuenta que usamos los mismos hiperparámetros).\n",
    "* verbose (int): Valor default=0. Controla los mensajes que nos aparecerán a la hora de entrenar y predecir un modelo.\n",
    "* warm_start (boolean): Valor default=False. Si el parámetro se encuentra seteado en True, lo que hará la solución es elegir los valores que corrieron anteriormente y luego entrenará mas estimadores al ensemble. Si esta seteado en False, se entrenará un nuevo forest.\n",
    "* class_weight ({“balanced”, “balanced_subsample”}, diccionario o lista de diccionarios). Valor default=None. Este parámetro se utilza para cuando las clases no se encuentran balanceadas, por ende el algoritmo modificará los pesos según el desbalanceo que exista en la clase.\n",
    "* ccp_alpha (float no negativo): Valor default=0. Parámetro de complejidad utilizado para la poda de costo mínimo-complejidad. Se elegirá el subárbol que posea el mayor valor pero siempre siendo menor al ccp_alpha definido.\n",
    "* max_samples (int o float): Valor default=None. Si el parámetro bootstrap está seteado en True, será el número máximo de observaciones que tomará cada una de las muestras. Si el valor es None, tomará todas las muestras. Si es un valor entero, será el número máximo que se podrá tomar para cada muestra. Si es un valor float, se calculará como la proporción del total de las observaciones.\n"
   ]
  },
  {
   "cell_type": "code",
   "execution_count": 14,
   "metadata": {},
   "outputs": [
    {
     "data": {
      "text/plain": [
       "RandomForestClassifier(max_depth=2, random_state=0)"
      ]
     },
     "execution_count": 14,
     "metadata": {},
     "output_type": "execute_result"
    }
   ],
   "source": [
    "clf = RandomForestClassifier(max_depth=2, random_state=0)\n",
    "clf.fit(X_train, y_train)"
   ]
  },
  {
   "cell_type": "code",
   "execution_count": 22,
   "metadata": {},
   "outputs": [],
   "source": [
    "predictionsProbabilities = clf.predict_proba(X_test)\n",
    "predictions = clf.predict(X_test)"
   ]
  },
  {
   "cell_type": "code",
   "execution_count": 21,
   "metadata": {},
   "outputs": [
    {
     "data": {
      "text/plain": [
       "0.7966101694915254"
      ]
     },
     "execution_count": 21,
     "metadata": {},
     "output_type": "execute_result"
    }
   ],
   "source": [
    "accuracy_score(y_test, predictionsProbabilities[:, 1]>0.5)"
   ]
  },
  {
   "cell_type": "code",
   "execution_count": 23,
   "metadata": {},
   "outputs": [
    {
     "data": {
      "text/plain": [
       "0.7966101694915254"
      ]
     },
     "execution_count": 23,
     "metadata": {},
     "output_type": "execute_result"
    }
   ],
   "source": [
    "accuracy_score(y_test, predictions)"
   ]
  },
  {
   "cell_type": "code",
   "execution_count": 24,
   "metadata": {},
   "outputs": [
    {
     "data": {
      "image/png": "[encoded data removed]",
      "text/plain": [
       "<Figure size 720x720 with 1 Axes>"
      ]
     },
     "metadata": {
      "needs_background": "light"
     },
     "output_type": "display_data"
    }
   ],
   "source": [
    "areaBajoCurvaRoc = roc_auc_score(y_test, predictions)\n",
    "fpr, tpr, _ = roc_curve(y_test, predictions)\n",
    "plt.figure(figsize=(10,10))\n",
    "plt.title(\"Grafico ROC para el modelo\")\n",
    "plt.plot(fpr, tpr)\n",
    "plt.plot([0,1])\n",
    "plt.xlabel('FPR')\n",
    "plt.ylabel('TPR')\n",
    "plt.annotate('Area bajo la curva ROC del modelo: {}'.format(areaBajoCurvaRoc), (-0.02,0.99))\n",
    "plt.show()"
   ]
  },
  {
   "cell_type": "code",
   "execution_count": 29,
   "metadata": {},
   "outputs": [],
   "source": [
    "X_test[\"target\"] = y_test\n",
    "X_test[\"score\"] = predictionsProbabilities[:,1]"
   ]
  },
  {
   "cell_type": "markdown",
   "metadata": {},
   "source": [
    "A continuación lo que vamos a hacer es armar las funciones de densidad de las probabilidades de cada uno de los valores del target. Con este gráfico lo que vamos a poder identificar es el solapamiento que pueden llegar a existir entre los diferentes scores. Como vimos anteriormente, cuando graficamos la curva roc, si logramos que las curvas no se solapan, podemos encontrar el modelo perfecto, no obstante, esto es prácticamente imposible, si lo logramos, lo que debemos tener en cuenta es que muy probablemente hayamos overfitteado."
   ]
  },
  {
   "cell_type": "code",
   "execution_count": 33,
   "metadata": {},
   "outputs": [
    {
     "data": {
      "text/plain": [
       "<Figure size 432x288 with 0 Axes>"
      ]
     },
     "metadata": {},
     "output_type": "display_data"
    },
    {
     "data": {
      "image/png": "[encoded data removed]",
      "text/plain": [
       "<Figure size 720x720 with 1 Axes>"
      ]
     },
     "metadata": {
      "needs_background": "light"
     },
     "output_type": "display_data"
    }
   ],
   "source": [
    "targets = [0, 1]\n",
    "plt.clf()\n",
    "plt.figure(figsize=(10,10))\n",
    "# Iterate through the five airlines\n",
    "for target in targets:\n",
    "    # Subset to the airline\n",
    "    subset = X_test[X_test.target == target]    \n",
    "    # Draw the density plot\n",
    "    sns.distplot(subset['score'],fit=norm, hist = True, kde=False, label = target)    \n",
    "# Plot formatting\n",
    "plt.legend(prop={'size': 16}, title = 'Target')\n",
    "plt.title('Densidad de Score por Target')\n",
    "plt.xlabel('Score')\n",
    "plt.ylabel('Densidad')\n",
    "display()"
   ]
  },
  {
   "cell_type": "markdown",
   "metadata": {},
   "source": [
    "Ahora lo que vamos a hacer es armar una tabla muy interesante para poder medir como vienen los scores abiertos por diferentes tipos de buckets. Primero dividiendo el score cada 100. También dividir el score en deciles.\n",
    "Tengan en cuenta que para poder medir si un modelo se degrada o no, lo ideal es guardar los buckets que arman los deciles originales para luego usar esas mismas cotas para poder medir meses subsiguientes."
   ]
  },
  {
   "cell_type": "code",
   "execution_count": 39,
   "metadata": {},
   "outputs": [],
   "source": [
    "#Normalizo el score\n",
    "X_test[\"scoreNormalizado\"] = X_test.score * 1000\n",
    "#Armo los buckets cada 100 puntos\n",
    "X_test[\"bucket\"] = pd.cut(X_test.scoreNormalizado, np.array([0,100,200,300,400,500,600,700,800,900,1000]))\n",
    "#Armo los deciles por scores\n",
    "X_test['decile'] = pd.qcut(X_test.score, 10, labels=False)\n",
    "#Armo un dataframe con los valores mínimos y máximos por cada uno de los deciles. Así después se podrá calcular \n",
    "#si los modelos se degradan o no\n",
    "deciles = X_test.groupby(\"decile\").agg({\"scoreNormalizado\":[\"min\", \"max\"]}).reset_index()\n",
    "deciles.columns = [\"decile\", \"minimo\", \"maximo\"]\n",
    "values = np.append(np.array(0), deciles.maximo.values)\n",
    "X_test['originalDecile'] = pd.cut(X_test.scoreNormalizado, values)"
   ]
  },
  {
   "cell_type": "code",
   "execution_count": 48,
   "metadata": {},
   "outputs": [
    {
     "data": {
      "text/html": [
       "<div>\n",
       "<style scoped>\n",
       "    .dataframe tbody tr th:only-of-type {\n",
       "        vertical-align: middle;\n",
       "    }\n",
       "\n",
       "    .dataframe tbody tr th {\n",
       "        vertical-align: top;\n",
       "    }\n",
       "\n",
       "    .dataframe thead th {\n",
       "        text-align: right;\n",
       "    }\n",
       "</style>\n",
       "<table border=\"1\" class=\"dataframe\">\n",
       "  <thead>\n",
       "    <tr style=\"text-align: right;\">\n",
       "      <th></th>\n",
       "      <th>Survived</th>\n",
       "      <th>Casos</th>\n",
       "      <th>notSurvived</th>\n",
       "      <th>% not Survived</th>\n",
       "      <th>% Survived</th>\n",
       "      <th>% not Survived acum.</th>\n",
       "      <th>% Survived acum.</th>\n",
       "    </tr>\n",
       "    <tr>\n",
       "      <th>decile</th>\n",
       "      <th></th>\n",
       "      <th></th>\n",
       "      <th></th>\n",
       "      <th></th>\n",
       "      <th></th>\n",
       "      <th></th>\n",
       "      <th></th>\n",
       "    </tr>\n",
       "  </thead>\n",
       "  <tbody>\n",
       "    <tr>\n",
       "      <th>9</th>\n",
       "      <td>28.0</td>\n",
       "      <td>29</td>\n",
       "      <td>1.0</td>\n",
       "      <td>0.01</td>\n",
       "      <td>0.23</td>\n",
       "      <td>0.01</td>\n",
       "      <td>0.23</td>\n",
       "    </tr>\n",
       "    <tr>\n",
       "      <th>8</th>\n",
       "      <td>25.0</td>\n",
       "      <td>29</td>\n",
       "      <td>4.0</td>\n",
       "      <td>0.02</td>\n",
       "      <td>0.21</td>\n",
       "      <td>0.03</td>\n",
       "      <td>0.44</td>\n",
       "    </tr>\n",
       "    <tr>\n",
       "      <th>7</th>\n",
       "      <td>22.0</td>\n",
       "      <td>31</td>\n",
       "      <td>9.0</td>\n",
       "      <td>0.05</td>\n",
       "      <td>0.18</td>\n",
       "      <td>0.08</td>\n",
       "      <td>0.62</td>\n",
       "    </tr>\n",
       "    <tr>\n",
       "      <th>6</th>\n",
       "      <td>17.0</td>\n",
       "      <td>29</td>\n",
       "      <td>12.0</td>\n",
       "      <td>0.07</td>\n",
       "      <td>0.14</td>\n",
       "      <td>0.15</td>\n",
       "      <td>0.76</td>\n",
       "    </tr>\n",
       "    <tr>\n",
       "      <th>5</th>\n",
       "      <td>8.0</td>\n",
       "      <td>29</td>\n",
       "      <td>21.0</td>\n",
       "      <td>0.12</td>\n",
       "      <td>0.07</td>\n",
       "      <td>0.27</td>\n",
       "      <td>0.83</td>\n",
       "    </tr>\n",
       "    <tr>\n",
       "      <th>4</th>\n",
       "      <td>11.0</td>\n",
       "      <td>30</td>\n",
       "      <td>19.0</td>\n",
       "      <td>0.11</td>\n",
       "      <td>0.09</td>\n",
       "      <td>0.38</td>\n",
       "      <td>0.92</td>\n",
       "    </tr>\n",
       "    <tr>\n",
       "      <th>3</th>\n",
       "      <td>3.0</td>\n",
       "      <td>27</td>\n",
       "      <td>24.0</td>\n",
       "      <td>0.14</td>\n",
       "      <td>0.02</td>\n",
       "      <td>0.52</td>\n",
       "      <td>0.94</td>\n",
       "    </tr>\n",
       "    <tr>\n",
       "      <th>2</th>\n",
       "      <td>1.0</td>\n",
       "      <td>32</td>\n",
       "      <td>31.0</td>\n",
       "      <td>0.18</td>\n",
       "      <td>0.01</td>\n",
       "      <td>0.70</td>\n",
       "      <td>0.95</td>\n",
       "    </tr>\n",
       "    <tr>\n",
       "      <th>1</th>\n",
       "      <td>3.0</td>\n",
       "      <td>24</td>\n",
       "      <td>21.0</td>\n",
       "      <td>0.12</td>\n",
       "      <td>0.02</td>\n",
       "      <td>0.82</td>\n",
       "      <td>0.97</td>\n",
       "    </tr>\n",
       "    <tr>\n",
       "      <th>0</th>\n",
       "      <td>2.0</td>\n",
       "      <td>35</td>\n",
       "      <td>33.0</td>\n",
       "      <td>0.19</td>\n",
       "      <td>0.02</td>\n",
       "      <td>1.01</td>\n",
       "      <td>0.99</td>\n",
       "    </tr>\n",
       "  </tbody>\n",
       "</table>\n",
       "</div>"
      ],
      "text/plain": [
       "        Survived  Casos  notSurvived  % not Survived  % Survived  \\\n",
       "decile                                                             \n",
       "9           28.0     29          1.0            0.01        0.23   \n",
       "8           25.0     29          4.0            0.02        0.21   \n",
       "7           22.0     31          9.0            0.05        0.18   \n",
       "6           17.0     29         12.0            0.07        0.14   \n",
       "5            8.0     29         21.0            0.12        0.07   \n",
       "4           11.0     30         19.0            0.11        0.09   \n",
       "3            3.0     27         24.0            0.14        0.02   \n",
       "2            1.0     32         31.0            0.18        0.01   \n",
       "1            3.0     24         21.0            0.12        0.02   \n",
       "0            2.0     35         33.0            0.19        0.02   \n",
       "\n",
       "        % not Survived acum.  % Survived acum.  \n",
       "decile                                          \n",
       "9                       0.01              0.23  \n",
       "8                       0.03              0.44  \n",
       "7                       0.08              0.62  \n",
       "6                       0.15              0.76  \n",
       "5                       0.27              0.83  \n",
       "4                       0.38              0.92  \n",
       "3                       0.52              0.94  \n",
       "2                       0.70              0.95  \n",
       "1                       0.82              0.97  \n",
       "0                       1.01              0.99  "
      ]
     },
     "execution_count": 48,
     "metadata": {},
     "output_type": "execute_result"
    }
   ],
   "source": [
    "measures = X_test.groupby(\"decile\").agg({\"target\": [\"sum\", \"count\"]})\n",
    "measures.columns = [\"Survived\", \"Casos\"]\n",
    "measures[\"notSurvived\"] = measures[\"Casos\"]-measures[\"Survived\"]\n",
    "measures[\"% not Survived\"] = (measures[\"notSurvived\"] / len(X_test[X_test.target == 0])).round(2)\n",
    "measures[\"% Survived\"] = (measures[\"Survived\"] / len(X_test[X_test.target == 1])).round(2)\n",
    "measures = measures.sort_index(ascending = False)\n",
    "a = measures[[\"% not Survived\", \"% Survived\"]]\\\n",
    "                .cumsum()\\\n",
    "                .rename(columns={\"% not Survived\": \"% not Survived acum.\", \"% Survived\": \"% Survived acum.\"})\n",
    "\n",
    "measures = measures.join(a)\n",
    "measures"
   ]
  },
  {
   "cell_type": "code",
   "execution_count": null,
   "metadata": {},
   "outputs": [],
   "source": []
  }
 ],
 "metadata": {
  "kernelspec": {
   "display_name": "Python 3",
   "language": "python",
   "name": "python3"
  },
  "language_info": {
   "codemirror_mode": {
    "name": "ipython",
    "version": 3
   },
   "file_extension": ".py",
   "mimetype": "text/x-python",
   "name": "python",
   "nbconvert_exporter": "python",
   "pygments_lexer": "ipython3",
   "version": "3.7.6"
  }
 },
 "nbformat": 4,
 "nbformat_minor": 4
}
