{
 "cells": [
  {
   "cell_type": "code",
   "execution_count": 1,
   "metadata": {},
   "outputs": [
    {
     "data": {
      "text/plain": [
       "'/Users/b05348/Documents/proyectos/diplomatura/diplomatura'"
      ]
     },
     "execution_count": 1,
     "metadata": {},
     "output_type": "execute_result"
    }
   ],
   "source": [
    "import os\n",
    "os.chdir('../')\n",
    "os.getcwd()"
   ]
  },
  {
   "cell_type": "code",
   "execution_count": 2,
   "metadata": {},
   "outputs": [],
   "source": [
    "import pandas as pd\n",
    "from matplotlib import pyplot as plt"
   ]
  },
  {
   "cell_type": "code",
   "execution_count": 5,
   "metadata": {},
   "outputs": [],
   "source": [
    "data = pd.read_excel('./data/basesClase3/baseDesbalanceada.xlsx')"
   ]
  },
  {
   "cell_type": "code",
   "execution_count": 6,
   "metadata": {},
   "outputs": [
    {
     "data": {
      "text/html": [
       "<div>\n",
       "<style scoped>\n",
       "    .dataframe tbody tr th:only-of-type {\n",
       "        vertical-align: middle;\n",
       "    }\n",
       "\n",
       "    .dataframe tbody tr th {\n",
       "        vertical-align: top;\n",
       "    }\n",
       "\n",
       "    .dataframe thead th {\n",
       "        text-align: right;\n",
       "    }\n",
       "</style>\n",
       "<table border=\"1\" class=\"dataframe\">\n",
       "  <thead>\n",
       "    <tr style=\"text-align: right;\">\n",
       "      <th></th>\n",
       "      <th>cod_paquete</th>\n",
       "      <th>grupo_pack</th>\n",
       "      <th>mesesTranscurridos</th>\n",
       "      <th>otroPaquete</th>\n",
       "      <th>bb_porcen_bonificado</th>\n",
       "      <th>venta_nivel1</th>\n",
       "      <th>venta_nivel2</th>\n",
       "      <th>ca_pesos_existente</th>\n",
       "      <th>ca_pesos_noexistente</th>\n",
       "      <th>tc_existente</th>\n",
       "      <th>...</th>\n",
       "      <th>sdoProm3mesesDecile</th>\n",
       "      <th>ratioConsumos1p6meses</th>\n",
       "      <th>ratioConsumosCuotas6meses</th>\n",
       "      <th>ratioConsumos6Meses</th>\n",
       "      <th>ratioSaldoProm6meses</th>\n",
       "      <th>ratioConsumos1p3meses</th>\n",
       "      <th>ratioConsumosCuotas3meses</th>\n",
       "      <th>ratioConsumos3Meses</th>\n",
       "      <th>ratioSaldoProm3meses</th>\n",
       "      <th>target</th>\n",
       "    </tr>\n",
       "  </thead>\n",
       "  <tbody>\n",
       "    <tr>\n",
       "      <th>0</th>\n",
       "      <td>41</td>\n",
       "      <td>pk</td>\n",
       "      <td>3</td>\n",
       "      <td>0</td>\n",
       "      <td>100</td>\n",
       "      <td>SUCURSAL</td>\n",
       "      <td>MORENO</td>\n",
       "      <td>0.0</td>\n",
       "      <td>1.0</td>\n",
       "      <td>1.0</td>\n",
       "      <td>...</td>\n",
       "      <td>0</td>\n",
       "      <td>0.0</td>\n",
       "      <td>0.574762</td>\n",
       "      <td>4.227420e-01</td>\n",
       "      <td>2.124302e+06</td>\n",
       "      <td>0.0</td>\n",
       "      <td>0.664616</td>\n",
       "      <td>4.364630e-01</td>\n",
       "      <td>2.124302e+06</td>\n",
       "      <td>0</td>\n",
       "    </tr>\n",
       "    <tr>\n",
       "      <th>1</th>\n",
       "      <td>41</td>\n",
       "      <td>pk</td>\n",
       "      <td>5</td>\n",
       "      <td>0</td>\n",
       "      <td>100</td>\n",
       "      <td>SUCURSAL</td>\n",
       "      <td>BAHIA BLANCA</td>\n",
       "      <td>1.0</td>\n",
       "      <td>0.0</td>\n",
       "      <td>1.0</td>\n",
       "      <td>...</td>\n",
       "      <td>0</td>\n",
       "      <td>1386033.0</td>\n",
       "      <td>0.399601</td>\n",
       "      <td>1.121796e+06</td>\n",
       "      <td>1.410843e+06</td>\n",
       "      <td>1203965.0</td>\n",
       "      <td>0.544198</td>\n",
       "      <td>1.019696e+06</td>\n",
       "      <td>1.731223e+06</td>\n",
       "      <td>0</td>\n",
       "    </tr>\n",
       "    <tr>\n",
       "      <th>2</th>\n",
       "      <td>40</td>\n",
       "      <td>pk</td>\n",
       "      <td>0</td>\n",
       "      <td>0</td>\n",
       "      <td>100</td>\n",
       "      <td>SUCURSAL</td>\n",
       "      <td>MORON</td>\n",
       "      <td>1.0</td>\n",
       "      <td>0.0</td>\n",
       "      <td>1.0</td>\n",
       "      <td>...</td>\n",
       "      <td>0</td>\n",
       "      <td>0.0</td>\n",
       "      <td>0.000000</td>\n",
       "      <td>0.000000e+00</td>\n",
       "      <td>0.000000e+00</td>\n",
       "      <td>0.0</td>\n",
       "      <td>0.000000</td>\n",
       "      <td>0.000000e+00</td>\n",
       "      <td>0.000000e+00</td>\n",
       "      <td>0</td>\n",
       "    </tr>\n",
       "    <tr>\n",
       "      <th>3</th>\n",
       "      <td>40</td>\n",
       "      <td>pk</td>\n",
       "      <td>4</td>\n",
       "      <td>0</td>\n",
       "      <td>100</td>\n",
       "      <td>SUCURSAL</td>\n",
       "      <td>BUENOS AIRES</td>\n",
       "      <td>1.0</td>\n",
       "      <td>0.0</td>\n",
       "      <td>1.0</td>\n",
       "      <td>...</td>\n",
       "      <td>0</td>\n",
       "      <td>1179533.0</td>\n",
       "      <td>0.915770</td>\n",
       "      <td>2.165210e-01</td>\n",
       "      <td>4.815740e-01</td>\n",
       "      <td>1082372.0</td>\n",
       "      <td>1.000000</td>\n",
       "      <td>2.303360e-01</td>\n",
       "      <td>5.361040e-01</td>\n",
       "      <td>0</td>\n",
       "    </tr>\n",
       "    <tr>\n",
       "      <th>4</th>\n",
       "      <td>41</td>\n",
       "      <td>pk</td>\n",
       "      <td>4</td>\n",
       "      <td>0</td>\n",
       "      <td>100</td>\n",
       "      <td>SUCURSAL</td>\n",
       "      <td>LA PLATA</td>\n",
       "      <td>0.0</td>\n",
       "      <td>1.0</td>\n",
       "      <td>1.0</td>\n",
       "      <td>...</td>\n",
       "      <td>0</td>\n",
       "      <td>0.0</td>\n",
       "      <td>0.000000</td>\n",
       "      <td>0.000000e+00</td>\n",
       "      <td>1.020384e+06</td>\n",
       "      <td>0.0</td>\n",
       "      <td>0.000000</td>\n",
       "      <td>0.000000e+00</td>\n",
       "      <td>1.020384e+06</td>\n",
       "      <td>0</td>\n",
       "    </tr>\n",
       "  </tbody>\n",
       "</table>\n",
       "<p>5 rows × 103 columns</p>\n",
       "</div>"
      ],
      "text/plain": [
       "   cod_paquete grupo_pack  mesesTranscurridos  otroPaquete  \\\n",
       "0           41         pk                   3            0   \n",
       "1           41         pk                   5            0   \n",
       "2           40         pk                   0            0   \n",
       "3           40         pk                   4            0   \n",
       "4           41         pk                   4            0   \n",
       "\n",
       "   bb_porcen_bonificado venta_nivel1  venta_nivel2  ca_pesos_existente  \\\n",
       "0                   100     SUCURSAL        MORENO                 0.0   \n",
       "1                   100     SUCURSAL  BAHIA BLANCA                 1.0   \n",
       "2                   100     SUCURSAL         MORON                 1.0   \n",
       "3                   100     SUCURSAL  BUENOS AIRES                 1.0   \n",
       "4                   100     SUCURSAL      LA PLATA                 0.0   \n",
       "\n",
       "   ca_pesos_noexistente  tc_existente  ...  sdoProm3mesesDecile  \\\n",
       "0                   1.0           1.0  ...                    0   \n",
       "1                   0.0           1.0  ...                    0   \n",
       "2                   0.0           1.0  ...                    0   \n",
       "3                   0.0           1.0  ...                    0   \n",
       "4                   1.0           1.0  ...                    0   \n",
       "\n",
       "   ratioConsumos1p6meses  ratioConsumosCuotas6meses  ratioConsumos6Meses  \\\n",
       "0                    0.0                   0.574762         4.227420e-01   \n",
       "1              1386033.0                   0.399601         1.121796e+06   \n",
       "2                    0.0                   0.000000         0.000000e+00   \n",
       "3              1179533.0                   0.915770         2.165210e-01   \n",
       "4                    0.0                   0.000000         0.000000e+00   \n",
       "\n",
       "   ratioSaldoProm6meses  ratioConsumos1p3meses  ratioConsumosCuotas3meses  \\\n",
       "0          2.124302e+06                    0.0                   0.664616   \n",
       "1          1.410843e+06              1203965.0                   0.544198   \n",
       "2          0.000000e+00                    0.0                   0.000000   \n",
       "3          4.815740e-01              1082372.0                   1.000000   \n",
       "4          1.020384e+06                    0.0                   0.000000   \n",
       "\n",
       "   ratioConsumos3Meses  ratioSaldoProm3meses  target  \n",
       "0         4.364630e-01          2.124302e+06       0  \n",
       "1         1.019696e+06          1.731223e+06       0  \n",
       "2         0.000000e+00          0.000000e+00       0  \n",
       "3         2.303360e-01          5.361040e-01       0  \n",
       "4         0.000000e+00          1.020384e+06       0  \n",
       "\n",
       "[5 rows x 103 columns]"
      ]
     },
     "execution_count": 6,
     "metadata": {},
     "output_type": "execute_result"
    }
   ],
   "source": [
    "data.head()"
   ]
  },
  {
   "cell_type": "code",
   "execution_count": 7,
   "metadata": {},
   "outputs": [
    {
     "name": "stdout",
     "output_type": "stream",
     "text": [
      "base segun target:\n",
      "target\n",
      "0    47453\n",
      "1     1091\n",
      "dtype: int64\n",
      "porcentaje de target 1:  0.022474456163480552\n",
      "porcentaje de target 0:  0.9775255438365195\n"
     ]
    }
   ],
   "source": [
    "print(\"base segun target:\")\n",
    "print(data.groupby(\"target\").size())\n",
    "print(\"porcentaje de target 1: \", len(data[data.target == 1]) / len(data))\n",
    "print(\"porcentaje de target 0: \", len(data[data.target == 0]) / len(data))\n"
   ]
  },
  {
   "cell_type": "code",
   "execution_count": 8,
   "metadata": {},
   "outputs": [
    {
     "data": {
      "text/plain": [
       "<AxesSubplot:title={'center':'Count (target)'}>"
      ]
     },
     "execution_count": 8,
     "metadata": {},
     "output_type": "execute_result"
    },
    {
     "data": {
      "image/png": "[encoded data removed]",
      "text/plain": [
       "<Figure size 432x288 with 1 Axes>"
      ]
     },
     "metadata": {
      "needs_background": "light"
     },
     "output_type": "display_data"
    }
   ],
   "source": [
    "data.target.value_counts().plot(kind='bar', title='Count (target)')"
   ]
  },
  {
   "cell_type": "code",
   "execution_count": 9,
   "metadata": {},
   "outputs": [
    {
     "name": "stdout",
     "output_type": "stream",
     "text": [
      "para realizar oversampling\n"
     ]
    }
   ],
   "source": [
    "cuenta0, cuenta1 = data.target.value_counts()\n",
    "data_0 = data[data.target == 0]\n",
    "data_1 = data[data.target == 1].sample(cuenta0, replace = True)\n"
   ]
  },
  {
   "cell_type": "code",
   "execution_count": 15,
   "metadata": {},
   "outputs": [
    {
     "name": "stdout",
     "output_type": "stream",
     "text": [
      "base rebalanceada:\n",
      "target\n",
      "0    47453\n",
      "1    47453\n",
      "dtype: int64\n",
      "porcentaje de target 1:  0.5\n",
      "porcentaje de target 0:  0.5\n"
     ]
    }
   ],
   "source": [
    "data = data_0.append(data_1)\n",
    "\n",
    "print(\"base rebalanceada:\")\n",
    "print(data.groupby(\"target\").size())\n",
    "print(\"porcentaje de target 1: \", len(data[data.target == 1]) / len(data))\n",
    "print(\"porcentaje de target 0: \", len(data[data.target == 0]) / len(data))\n"
   ]
  },
  {
   "cell_type": "code",
   "execution_count": 16,
   "metadata": {},
   "outputs": [
    {
     "data": {
      "text/plain": [
       "<AxesSubplot:title={'center':'Count (target)'}>"
      ]
     },
     "execution_count": 16,
     "metadata": {},
     "output_type": "execute_result"
    },
    {
     "data": {
      "image/png": "[encoded data removed]",
      "text/plain": [
       "<Figure size 432x288 with 1 Axes>"
      ]
     },
     "metadata": {
      "needs_background": "light"
     },
     "output_type": "display_data"
    }
   ],
   "source": [
    "data.target.value_counts().plot(kind='bar', title='Count (target)')"
   ]
  }
 ],
 "metadata": {
  "kernelspec": {
   "display_name": "Python 3",
   "language": "python",
   "name": "python3"
  },
  "language_info": {
   "codemirror_mode": {
    "name": "ipython",
    "version": 3
   },
   "file_extension": ".py",
   "mimetype": "text/x-python",
   "name": "python",
   "nbconvert_exporter": "python",
   "pygments_lexer": "ipython3",
   "version": "3.7.6"
  }
 },
 "nbformat": 4,
 "nbformat_minor": 4
}
